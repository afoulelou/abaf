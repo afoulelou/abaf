{
 "cells": [
  {
   "cell_type": "markdown",
   "id": "20d86a5b-2ded-4307-a686-5507d2879b93",
   "metadata": {},
   "source": [
    "# H1: Data Science Tools and Ecosystem"
   ]
  },
  {
   "cell_type": "markdown",
   "id": "91d19ca3-5674-41e6-98a3-34880d5ee290",
   "metadata": {},
   "source": [
    "# In this notebook, Data Science Tools and Ecosystem are summarized."
   ]
  },
  {
   "cell_type": "markdown",
   "id": "beead372-1117-4015-8e6c-d6c2cfeaa295",
   "metadata": {},
   "source": [
    "**Objectives**:\n",
    "- popular languages for Dats scientists\n",
    "- Commonly used libraries used by Data scientists\n",
    "- Data science tools\n",
    "- calculus with intergers\n",
    "- Converting minutes to hours"
   ]
  },
  {
   "cell_type": "markdown",
   "id": "a839b7bb-6580-462a-9934-a517352f245a",
   "metadata": {},
   "source": [
    "# Some of the popular languages that Data scientists use are:\n",
    "1. Python\n",
    "2. R\n",
    "3. Julia"
   ]
  },
  {
   "cell_type": "markdown",
   "id": "0501c69c-b509-47e4-b362-7bf55a5410f3",
   "metadata": {},
   "source": [
    "# Some of the commonly used libraries used by Data Scientists include:\n",
    "1. Pandas\n",
    "2. Scikit-learn\n",
    "3. Numpy\n",
    "4. Seaborn"
   ]
  },
  {
   "cell_type": "markdown",
   "id": "dc645e0b-927a-453a-97e2-9a5e4a707d93",
   "metadata": {},
   "source": [
    "|Data Science Tools|\n",
    "|-------------------|\n",
    "| R-STUDIO|\n",
    "| JUPYTER|\n",
    "| PYCHARM|"
   ]
  },
  {
   "cell_type": "markdown",
   "id": "006da641-50ce-4d82-9afe-31461e9d9730",
   "metadata": {},
   "source": [
    "### Below are a few examples of evaluating arithmetic expressions in Python"
   ]
  },
  {
   "cell_type": "code",
   "execution_count": 18,
   "id": "8bbec8ff-c606-4581-a341-6a7ca6f165ba",
   "metadata": {},
   "outputs": [
    {
     "data": {
      "text/plain": [
       "17"
      ]
     },
     "execution_count": 18,
     "metadata": {},
     "output_type": "execute_result"
    }
   ],
   "source": [
    "# This is a simple arithmetic expression to multiply then add integers\n",
    "(3*4) + 5"
   ]
  },
  {
   "cell_type": "code",
   "execution_count": 29,
   "id": "79a5b2e3-81e3-4ff9-baf4-b5c3115c3b39",
   "metadata": {},
   "outputs": [
    {
     "data": {
      "text/plain": [
       "3.3333333333333335"
      ]
     },
     "execution_count": 29,
     "metadata": {},
     "output_type": "execute_result"
    }
   ],
   "source": [
    "# This will convert 200 minutes to hours by dividing by 60\n",
    "200/60"
   ]
  },
  {
   "cell_type": "markdown",
   "id": "e41fdaef-1cab-4995-bdff-277a9f294bd2",
   "metadata": {},
   "source": [
    "## Author\n",
    "Aboulaye Afoulelou"
   ]
  },
  {
   "cell_type": "code",
   "execution_count": null,
   "id": "72b5e868-aec7-4243-9eda-2d68a8064c68",
   "metadata": {},
   "outputs": [],
   "source": []
  }
 ],
 "metadata": {
  "kernelspec": {
   "display_name": "anaconda-panel-2023.05-py310",
   "language": "python",
   "name": "conda-env-anaconda-panel-2023.05-py310-py"
  },
  "language_info": {
   "codemirror_mode": {
    "name": "ipython",
    "version": 3
   },
   "file_extension": ".py",
   "mimetype": "text/x-python",
   "name": "python",
   "nbconvert_exporter": "python",
   "pygments_lexer": "ipython3",
   "version": "3.11.5"
  }
 },
 "nbformat": 4,
 "nbformat_minor": 5
}
